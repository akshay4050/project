{
 "cells": [
  {
   "cell_type": "code",
   "execution_count": 1,
   "id": "2bfe95cc-60c1-4bd5-b316-359abe1c31fc",
   "metadata": {},
   "outputs": [
    {
     "name": "stdout",
     "output_type": "stream",
     "text": [
      "5\n"
     ]
    }
   ],
   "source": [
    "# variable\n",
    "\n",
    "a=5\n",
    "b=5\n",
    "print(a)"
   ]
  },
  {
   "cell_type": "code",
   "execution_count": 2,
   "id": "c34d8af2-433c-4281-8aab-2ff760bdb28b",
   "metadata": {},
   "outputs": [
    {
     "data": {
      "text/plain": [
       "140731707868072"
      ]
     },
     "execution_count": 2,
     "metadata": {},
     "output_type": "execute_result"
    }
   ],
   "source": [
    "id(a)"
   ]
  },
  {
   "cell_type": "code",
   "execution_count": 3,
   "id": "23a89254-cc60-431a-9881-3d625cfd5dce",
   "metadata": {},
   "outputs": [
    {
     "data": {
      "text/plain": [
       "140731707868072"
      ]
     },
     "execution_count": 3,
     "metadata": {},
     "output_type": "execute_result"
    }
   ],
   "source": [
    "id(b)"
   ]
  },
  {
   "cell_type": "code",
   "execution_count": 4,
   "id": "3a4ed42f-e39a-478a-956f-2a6b4cd03f3a",
   "metadata": {},
   "outputs": [
    {
     "name": "stdout",
     "output_type": "stream",
     "text": [
      "5 5 5\n"
     ]
    },
    {
     "data": {
      "text/plain": [
       "140731707868072"
      ]
     },
     "execution_count": 4,
     "metadata": {},
     "output_type": "execute_result"
    }
   ],
   "source": [
    "# variable\n",
    "a=5\n",
    "b=5\n",
    "c=5\n",
    "print(a,b,c)\n",
    "\n",
    "\n",
    "id(b)\n"
   ]
  },
  {
   "cell_type": "code",
   "execution_count": 5,
   "id": "13269daf-bd38-4210-8c29-4226e1e8eff3",
   "metadata": {},
   "outputs": [
    {
     "data": {
      "text/plain": [
       "140731707868072"
      ]
     },
     "execution_count": 5,
     "metadata": {},
     "output_type": "execute_result"
    }
   ],
   "source": [
    "id(a)"
   ]
  },
  {
   "cell_type": "code",
   "execution_count": 6,
   "id": "76f2cf8c-d9d7-436f-89c8-d74dcd496613",
   "metadata": {},
   "outputs": [
    {
     "data": {
      "text/plain": [
       "140731707868072"
      ]
     },
     "execution_count": 6,
     "metadata": {},
     "output_type": "execute_result"
    }
   ],
   "source": [
    "id(c)"
   ]
  },
  {
   "cell_type": "code",
   "execution_count": 7,
   "id": "a67064bd-0c0c-4e32-8d89-73e56eab7180",
   "metadata": {},
   "outputs": [
    {
     "data": {
      "text/plain": [
       "5"
      ]
     },
     "execution_count": 7,
     "metadata": {},
     "output_type": "execute_result"
    }
   ],
   "source": [
    "b"
   ]
  },
  {
   "cell_type": "code",
   "execution_count": 8,
   "id": "1f9724f6-05cc-41bc-8e7e-3644ca57bbc5",
   "metadata": {},
   "outputs": [
    {
     "data": {
      "text/plain": [
       "6"
      ]
     },
     "execution_count": 8,
     "metadata": {},
     "output_type": "execute_result"
    }
   ],
   "source": [
    "sum =5 +1\n",
    "sum"
   ]
  },
  {
   "cell_type": "code",
   "execution_count": 9,
   "id": "5a846ef4-632b-4dc6-aedf-b3e03d5ce129",
   "metadata": {},
   "outputs": [
    {
     "data": {
      "text/plain": [
       "1"
      ]
     },
     "execution_count": 9,
     "metadata": {},
     "output_type": "execute_result"
    }
   ],
   "source": [
    "int(True)"
   ]
  },
  {
   "cell_type": "code",
   "execution_count": 10,
   "id": "30ae13be-96f3-48e2-80df-5b333bd1bb1d",
   "metadata": {},
   "outputs": [
    {
     "name": "stdout",
     "output_type": "stream",
     "text": [
      "['False', 'None', 'True', 'and', 'as', 'assert', 'async', 'await', 'break', 'class', 'continue', 'def', 'del', 'elif', 'else', 'except', 'finally', 'for', 'from', 'global', 'if', 'import', 'in', 'is', 'lambda', 'nonlocal', 'not', 'or', 'pass', 'raise', 'return', 'try', 'while', 'with', 'yield']\n"
     ]
    }
   ],
   "source": [
    "import keyword \n",
    "print(keyword.kwlist)"
   ]
  },
  {
   "cell_type": "code",
   "execution_count": 11,
   "id": "cf016431-3124-47cb-9832-e2625a883d33",
   "metadata": {},
   "outputs": [
    {
     "data": {
      "text/plain": [
       "'8'"
      ]
     },
     "execution_count": 11,
     "metadata": {},
     "output_type": "execute_result"
    }
   ],
   "source": [
    "str(8)"
   ]
  },
  {
   "cell_type": "code",
   "execution_count": 12,
   "id": "4c67d0a0-3df2-4fca-942a-2856b3adc10d",
   "metadata": {},
   "outputs": [
    {
     "data": {
      "text/plain": [
       "'87.8'"
      ]
     },
     "execution_count": 12,
     "metadata": {},
     "output_type": "execute_result"
    }
   ],
   "source": [
    "str(87.8)"
   ]
  },
  {
   "cell_type": "code",
   "execution_count": 13,
   "id": "eff8f634-59bf-4443-bc0d-bba541bdbe6e",
   "metadata": {},
   "outputs": [
    {
     "data": {
      "text/plain": [
       "'(7+2j)'"
      ]
     },
     "execution_count": 13,
     "metadata": {},
     "output_type": "execute_result"
    }
   ],
   "source": [
    "str(7+2j)"
   ]
  },
  {
   "cell_type": "code",
   "execution_count": 14,
   "id": "d05596ed-96bb-4efc-b6aa-c0f18a741a91",
   "metadata": {},
   "outputs": [
    {
     "data": {
      "text/plain": [
       "'2'"
      ]
     },
     "execution_count": 14,
     "metadata": {},
     "output_type": "execute_result"
    }
   ],
   "source": [
    "str(True + 1)"
   ]
  },
  {
   "cell_type": "code",
   "execution_count": 15,
   "id": "523e5398-d604-4b4b-8bcf-2c2a9e35316c",
   "metadata": {},
   "outputs": [
    {
     "data": {
      "text/plain": [
       "'11'"
      ]
     },
     "execution_count": 15,
     "metadata": {},
     "output_type": "execute_result"
    }
   ],
   "source": [
    "str(6 + a)"
   ]
  },
  {
   "cell_type": "code",
   "execution_count": 16,
   "id": "ba640245-39b6-4a16-b6ab-01325b2387a6",
   "metadata": {},
   "outputs": [
    {
     "data": {
      "text/plain": [
       "True"
      ]
     },
     "execution_count": 16,
     "metadata": {},
     "output_type": "execute_result"
    }
   ],
   "source": [
    "bool(10)"
   ]
  },
  {
   "cell_type": "code",
   "execution_count": 17,
   "id": "2b2e05f2-3fee-40dd-bdcf-4d16fcbd2e07",
   "metadata": {},
   "outputs": [
    {
     "data": {
      "text/plain": [
       "True"
      ]
     },
     "execution_count": 17,
     "metadata": {},
     "output_type": "execute_result"
    }
   ],
   "source": [
    "bool(10.8)"
   ]
  },
  {
   "cell_type": "code",
   "execution_count": 18,
   "id": "f9653b18-4ea8-4b08-9868-11cfa304614a",
   "metadata": {},
   "outputs": [
    {
     "data": {
      "text/plain": [
       "True"
      ]
     },
     "execution_count": 18,
     "metadata": {},
     "output_type": "execute_result"
    }
   ],
   "source": [
    "bool(\"hhh\")"
   ]
  },
  {
   "cell_type": "code",
   "execution_count": 19,
   "id": "bd7e1e8a-5e30-4727-adbd-5aab78a5f822",
   "metadata": {},
   "outputs": [
    {
     "data": {
      "text/plain": [
       "False"
      ]
     },
     "execution_count": 19,
     "metadata": {},
     "output_type": "execute_result"
    }
   ],
   "source": [
    "bool()"
   ]
  },
  {
   "cell_type": "code",
   "execution_count": 20,
   "id": "53c48b51-886b-4d35-99cb-e3b13f60a01e",
   "metadata": {},
   "outputs": [
    {
     "data": {
      "text/plain": [
       "False"
      ]
     },
     "execution_count": 20,
     "metadata": {},
     "output_type": "execute_result"
    }
   ],
   "source": [
    "bool(\"\")"
   ]
  },
  {
   "cell_type": "code",
   "execution_count": 21,
   "id": "f3c8994b-5dfa-462c-bb58-164953526a71",
   "metadata": {},
   "outputs": [
    {
     "data": {
      "text/plain": [
       "True"
      ]
     },
     "execution_count": 21,
     "metadata": {},
     "output_type": "execute_result"
    }
   ],
   "source": [
    "bool(\"0\")"
   ]
  },
  {
   "cell_type": "code",
   "execution_count": 22,
   "id": "ec97f146-17d4-4cee-a99f-411f450686ba",
   "metadata": {},
   "outputs": [
    {
     "name": "stdout",
     "output_type": "stream",
     "text": [
      "12\n",
      "0\n",
      "21\n",
      "2.0\n",
      "0\n",
      "5\n",
      "8\n"
     ]
    }
   ],
   "source": [
    "#operator\n",
    "# A P\n",
    "print(10+2)\n",
    "print(3-3)\n",
    "print(3*7)\n",
    "print(20/10)\n",
    "print(10%2)\n",
    "print(10//2)  #floar division \n",
    "print(2**3) #exponent"
   ]
  },
  {
   "cell_type": "code",
   "execution_count": 23,
   "id": "1e242c12-c04f-40d4-a42a-20e43f2fcbed",
   "metadata": {},
   "outputs": [
    {
     "name": "stdin",
     "output_type": "stream",
     "text": [
      "enter no  455\n"
     ]
    },
    {
     "name": "stdout",
     "output_type": "stream",
     "text": [
      "14\n"
     ]
    }
   ],
   "source": [
    "no = int(input(\"enter no \"))\n",
    "a =no %10  #5\n",
    "no = no //10 #45\n",
    "b = no %10 #5\n",
    "c= no //10  #4\n",
    "print (a+b+c)"
   ]
  },
  {
   "cell_type": "code",
   "execution_count": null,
   "id": "9f446be5-b7bb-4939-9e17-cfeaa3439662",
   "metadata": {},
   "outputs": [],
   "source": []
  }
 ],
 "metadata": {
  "kernelspec": {
   "display_name": "Python 3 (ipykernel)",
   "language": "python",
   "name": "python3"
  },
  "language_info": {
   "codemirror_mode": {
    "name": "ipython",
    "version": 3
   },
   "file_extension": ".py",
   "mimetype": "text/x-python",
   "name": "python",
   "nbconvert_exporter": "python",
   "pygments_lexer": "ipython3",
   "version": "3.11.7"
  }
 },
 "nbformat": 4,
 "nbformat_minor": 5
}
